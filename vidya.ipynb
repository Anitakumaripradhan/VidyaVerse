{
 "cells": [
  {
   "cell_type": "code",
   "execution_count": 8,
   "id": "a3ff4e6e",
   "metadata": {},
   "outputs": [],
   "source": [
    "import pandas as pd"
   ]
  },
  {
   "cell_type": "code",
   "execution_count": 9,
   "id": "dba80dda",
   "metadata": {},
   "outputs": [],
   "source": [
    "df = pd.read_csv(\"campaign_performance.csv\")\n"
   ]
  },
  {
   "cell_type": "code",
   "execution_count": 10,
   "id": "68895640",
   "metadata": {},
   "outputs": [
    {
     "data": {
      "text/plain": [
       "Index(['campaign_id', 'ad_date', 'platform', 'ad_spend', 'clicks',\n",
       "       'impressions'],\n",
       "      dtype='object')"
      ]
     },
     "execution_count": 10,
     "metadata": {},
     "output_type": "execute_result"
    }
   ],
   "source": [
    "df.columns"
   ]
  },
  {
   "cell_type": "code",
   "execution_count": 11,
   "id": "6cedffd9",
   "metadata": {},
   "outputs": [
    {
     "data": {
      "text/plain": [
       "array(['insta', 'Instagram Ads', 'Instagram', 'YouTube', 'YT',\n",
       "       'YouTube Ads', 'LI', 'LinkedIn Ads'], dtype=object)"
      ]
     },
     "execution_count": 11,
     "metadata": {},
     "output_type": "execute_result"
    }
   ],
   "source": [
    "df['platform'].unique()"
   ]
  },
  {
   "cell_type": "code",
   "execution_count": 12,
   "id": "be660e8b",
   "metadata": {},
   "outputs": [],
   "source": [
    "df['platform'] = df['platform'].replace({\n",
    "    'insta': 'Instagram',\n",
    "    'Instagram Ads': 'Instagram',\n",
    "    'Instagram': 'Instagram',\n",
    "    'YT': 'YouTube',\n",
    "    'YouTube Ads': 'YouTube',\n",
    "    'LI': 'LinkedIn',\n",
    "    'LinkedIn Ads': 'LinkedIn'}) "
   ]
  },
  {
   "cell_type": "code",
   "execution_count": 13,
   "id": "4853e038",
   "metadata": {},
   "outputs": [
    {
     "data": {
      "text/plain": [
       "platform\n",
       "Instagram    10\n",
       "YouTube      10\n",
       "LinkedIn     10\n",
       "Name: count, dtype: int64"
      ]
     },
     "execution_count": 13,
     "metadata": {},
     "output_type": "execute_result"
    }
   ],
   "source": [
    "df['platform'].value_counts()"
   ]
  },
  {
   "cell_type": "code",
   "execution_count": 14,
   "id": "87b23c12",
   "metadata": {},
   "outputs": [],
   "source": [
    "df.to_csv(\"campaign_cleaned.csv\", index= False)"
   ]
  },
  {
   "cell_type": "code",
   "execution_count": 15,
   "id": "b3f53257",
   "metadata": {},
   "outputs": [],
   "source": [
    "df = pd.read_csv(\"campaign_cleaned.csv\")"
   ]
  },
  {
   "cell_type": "code",
   "execution_count": 16,
   "id": "72a0751b",
   "metadata": {},
   "outputs": [],
   "source": [
    "df = pd.read_csv(\"student_enrollments.csv\")"
   ]
  },
  {
   "cell_type": "code",
   "execution_count": 17,
   "id": "dad020d4",
   "metadata": {},
   "outputs": [
    {
     "data": {
      "text/plain": [
       "Index(['student_id', 'signup_date', 'course_name', 'completion_percentage',\n",
       "       'source_campaign_id'],\n",
       "      dtype='object')"
      ]
     },
     "execution_count": 17,
     "metadata": {},
     "output_type": "execute_result"
    }
   ],
   "source": [
    "df.columns"
   ]
  },
  {
   "cell_type": "code",
   "execution_count": 18,
   "id": "22700aab",
   "metadata": {},
   "outputs": [
    {
     "data": {
      "text/html": [
       "<div>\n",
       "<style scoped>\n",
       "    .dataframe tbody tr th:only-of-type {\n",
       "        vertical-align: middle;\n",
       "    }\n",
       "\n",
       "    .dataframe tbody tr th {\n",
       "        vertical-align: top;\n",
       "    }\n",
       "\n",
       "    .dataframe thead th {\n",
       "        text-align: right;\n",
       "    }\n",
       "</style>\n",
       "<table border=\"1\" class=\"dataframe\">\n",
       "  <thead>\n",
       "    <tr style=\"text-align: right;\">\n",
       "      <th></th>\n",
       "      <th>student_id</th>\n",
       "      <th>signup_date</th>\n",
       "      <th>course_name</th>\n",
       "      <th>completion_percentage</th>\n",
       "      <th>source_campaign_id</th>\n",
       "    </tr>\n",
       "  </thead>\n",
       "  <tbody>\n",
       "    <tr>\n",
       "      <th>0</th>\n",
       "      <td>2000</td>\n",
       "      <td>2024-01-01</td>\n",
       "      <td>Python for Data Science</td>\n",
       "      <td>27.88</td>\n",
       "      <td>1023</td>\n",
       "    </tr>\n",
       "    <tr>\n",
       "      <th>1</th>\n",
       "      <td>2001</td>\n",
       "      <td>2024-03-03</td>\n",
       "      <td>Python for Data Science</td>\n",
       "      <td>83.39</td>\n",
       "      <td>1016</td>\n",
       "    </tr>\n",
       "    <tr>\n",
       "      <th>2</th>\n",
       "      <td>2002</td>\n",
       "      <td>2024-01-08</td>\n",
       "      <td>Python for Data Science</td>\n",
       "      <td>75.61</td>\n",
       "      <td>1000</td>\n",
       "    </tr>\n",
       "    <tr>\n",
       "      <th>3</th>\n",
       "      <td>2003</td>\n",
       "      <td>2024-01-05</td>\n",
       "      <td>Python for Data Science</td>\n",
       "      <td>93.37</td>\n",
       "      <td>1025</td>\n",
       "    </tr>\n",
       "    <tr>\n",
       "      <th>4</th>\n",
       "      <td>2004</td>\n",
       "      <td>2024-02-10</td>\n",
       "      <td>Data Analytics 101</td>\n",
       "      <td>92.35</td>\n",
       "      <td>1008</td>\n",
       "    </tr>\n",
       "  </tbody>\n",
       "</table>\n",
       "</div>"
      ],
      "text/plain": [
       "   student_id signup_date              course_name  completion_percentage  \\\n",
       "0        2000  2024-01-01  Python for Data Science                  27.88   \n",
       "1        2001  2024-03-03  Python for Data Science                  83.39   \n",
       "2        2002  2024-01-08  Python for Data Science                  75.61   \n",
       "3        2003  2024-01-05  Python for Data Science                  93.37   \n",
       "4        2004  2024-02-10       Data Analytics 101                  92.35   \n",
       "\n",
       "   source_campaign_id  \n",
       "0                1023  \n",
       "1                1016  \n",
       "2                1000  \n",
       "3                1025  \n",
       "4                1008  "
      ]
     },
     "execution_count": 18,
     "metadata": {},
     "output_type": "execute_result"
    }
   ],
   "source": [
    "df.head()"
   ]
  }
 ],
 "metadata": {
  "kernelspec": {
   "display_name": "Python 3",
   "language": "python",
   "name": "python3"
  },
  "language_info": {
   "codemirror_mode": {
    "name": "ipython",
    "version": 3
   },
   "file_extension": ".py",
   "mimetype": "text/x-python",
   "name": "python",
   "nbconvert_exporter": "python",
   "pygments_lexer": "ipython3",
   "version": "3.13.5"
  }
 },
 "nbformat": 4,
 "nbformat_minor": 5
}
